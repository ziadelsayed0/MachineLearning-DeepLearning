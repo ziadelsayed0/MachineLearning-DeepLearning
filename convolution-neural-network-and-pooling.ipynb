{
 "cells": [
  {
   "cell_type": "code",
   "execution_count": 1,
   "id": "3dec89f5",
   "metadata": {
    "_cell_guid": "b1076dfc-b9ad-4769-8c92-a6c4dae69d19",
    "_uuid": "8f2839f25d086af736a60e9eeb907d3b93b6e0e5",
    "execution": {
     "iopub.execute_input": "2025-01-11T13:45:41.677139Z",
     "iopub.status.busy": "2025-01-11T13:45:41.676845Z",
     "iopub.status.idle": "2025-01-11T13:45:49.665323Z",
     "shell.execute_reply": "2025-01-11T13:45:49.664639Z"
    },
    "papermill": {
     "duration": 7.994415,
     "end_time": "2025-01-11T13:45:49.666919",
     "exception": false,
     "start_time": "2025-01-11T13:45:41.672504",
     "status": "completed"
    },
    "tags": []
   },
   "outputs": [],
   "source": [
    "import tensorflow as tf\n",
    "from tensorflow.keras.datasets import mnist"
   ]
  },
  {
   "cell_type": "code",
   "execution_count": 2,
   "id": "4d5a6ae1",
   "metadata": {
    "execution": {
     "iopub.execute_input": "2025-01-11T13:45:49.673141Z",
     "iopub.status.busy": "2025-01-11T13:45:49.672657Z",
     "iopub.status.idle": "2025-01-11T13:45:49.676746Z",
     "shell.execute_reply": "2025-01-11T13:45:49.676038Z"
    },
    "papermill": {
     "duration": 0.008215,
     "end_time": "2025-01-11T13:45:49.677996",
     "exception": false,
     "start_time": "2025-01-11T13:45:49.669781",
     "status": "completed"
    },
    "tags": []
   },
   "outputs": [],
   "source": [
    "class myCallback(tf.keras.callbacks.Callback):\n",
    "    def on_epoch_end(self, epoch, logs={}):\n",
    "        if (logs.get('accuracy') >\n",
    "                0.998):  # it actually never reaches this hight accuracy\n",
    "            print(\"\\nReached 99.8% accuracy so cancelling training!\")\n",
    "            self.model.stop_training = True"
   ]
  },
  {
   "cell_type": "code",
   "execution_count": 3,
   "id": "af709f36",
   "metadata": {
    "execution": {
     "iopub.execute_input": "2025-01-11T13:45:49.683364Z",
     "iopub.status.busy": "2025-01-11T13:45:49.683133Z",
     "iopub.status.idle": "2025-01-11T13:45:50.096303Z",
     "shell.execute_reply": "2025-01-11T13:45:50.095592Z"
    },
    "papermill": {
     "duration": 0.417715,
     "end_time": "2025-01-11T13:45:50.098046",
     "exception": false,
     "start_time": "2025-01-11T13:45:49.680331",
     "status": "completed"
    },
    "tags": []
   },
   "outputs": [
    {
     "name": "stdout",
     "output_type": "stream",
     "text": [
      "Downloading data from https://storage.googleapis.com/tensorflow/tf-keras-datasets/mnist.npz\n",
      "\u001b[1m11490434/11490434\u001b[0m \u001b[32m━━━━━━━━━━━━━━━━━━━━\u001b[0m\u001b[37m\u001b[0m \u001b[1m0s\u001b[0m 0us/step\n"
     ]
    }
   ],
   "source": [
    "# create instance from the callbacks\n",
    "callbacks = myCallback()\n",
    "mnist = tf.keras.datasets.mnist\n",
    "\n",
    "(training_images, training_labels), (test_images,\n",
    "                                     test_labels) = mnist.load_data()\n"
   ]
  },
  {
   "cell_type": "code",
   "execution_count": 4,
   "id": "30c38d11",
   "metadata": {
    "execution": {
     "iopub.execute_input": "2025-01-11T13:45:50.104673Z",
     "iopub.status.busy": "2025-01-11T13:45:50.104428Z",
     "iopub.status.idle": "2025-01-11T13:45:50.241529Z",
     "shell.execute_reply": "2025-01-11T13:45:50.240790Z"
    },
    "papermill": {
     "duration": 0.141939,
     "end_time": "2025-01-11T13:45:50.243090",
     "exception": false,
     "start_time": "2025-01-11T13:45:50.101151",
     "status": "completed"
    },
    "tags": []
   },
   "outputs": [],
   "source": [
    "# Applying feature scaling on images to be in the type (floating point number)\n",
    "\n",
    "training_images = training_images.reshape(60000, 28, 28, 1)\n",
    "training_images = training_images / 255.0\n",
    "\n",
    "test_images = test_images.reshape(10000, 28, 28, 1)\n",
    "test_images = test_images / 255.0"
   ]
  },
  {
   "cell_type": "code",
   "execution_count": 5,
   "id": "c8005099",
   "metadata": {
    "execution": {
     "iopub.execute_input": "2025-01-11T13:45:50.249503Z",
     "iopub.status.busy": "2025-01-11T13:45:50.249270Z",
     "iopub.status.idle": "2025-01-11T13:45:50.950720Z",
     "shell.execute_reply": "2025-01-11T13:45:50.949801Z"
    },
    "papermill": {
     "duration": 0.706367,
     "end_time": "2025-01-11T13:45:50.952376",
     "exception": false,
     "start_time": "2025-01-11T13:45:50.246009",
     "status": "completed"
    },
    "tags": []
   },
   "outputs": [
    {
     "name": "stderr",
     "output_type": "stream",
     "text": [
      "/usr/local/lib/python3.10/dist-packages/keras/src/layers/convolutional/base_conv.py:107: UserWarning: Do not pass an `input_shape`/`input_dim` argument to a layer. When using Sequential models, prefer using an `Input(shape)` object as the first layer in the model instead.\n",
      "  super().__init__(activity_regularizer=activity_regularizer, **kwargs)\n"
     ]
    }
   ],
   "source": [
    "# Creating out model with conv and pooling layers\n",
    "\n",
    "model = tf.keras.models.Sequential([\n",
    "    tf.keras.layers.Conv2D(32, (3, 3),\n",
    "                           activation='relu',\n",
    "                           input_shape=(28, 28, 1)),\n",
    "    tf.keras.layers.MaxPooling2D(2, 2),\n",
    "    tf.keras.layers.Flatten(),\n",
    "    tf.keras.layers.Dense(128, activation='relu'),\n",
    "    tf.keras.layers.Dense(10, activation='softmax')\n",
    "])"
   ]
  },
  {
   "cell_type": "code",
   "execution_count": 6,
   "id": "c24a8080",
   "metadata": {
    "execution": {
     "iopub.execute_input": "2025-01-11T13:45:50.959168Z",
     "iopub.status.busy": "2025-01-11T13:45:50.958927Z",
     "iopub.status.idle": "2025-01-11T13:45:50.982544Z",
     "shell.execute_reply": "2025-01-11T13:45:50.981782Z"
    },
    "papermill": {
     "duration": 0.028699,
     "end_time": "2025-01-11T13:45:50.984207",
     "exception": false,
     "start_time": "2025-01-11T13:45:50.955508",
     "status": "completed"
    },
    "tags": []
   },
   "outputs": [
    {
     "data": {
      "text/html": [
       "<pre style=\"white-space:pre;overflow-x:auto;line-height:normal;font-family:Menlo,'DejaVu Sans Mono',consolas,'Courier New',monospace\"><span style=\"font-weight: bold\">Model: \"sequential\"</span>\n",
       "</pre>\n"
      ],
      "text/plain": [
       "\u001b[1mModel: \"sequential\"\u001b[0m\n"
      ]
     },
     "metadata": {},
     "output_type": "display_data"
    },
    {
     "data": {
      "text/html": [
       "<pre style=\"white-space:pre;overflow-x:auto;line-height:normal;font-family:Menlo,'DejaVu Sans Mono',consolas,'Courier New',monospace\">┏━━━━━━━━━━━━━━━━━━━━━━━━━━━━━━━━━━━━━━┳━━━━━━━━━━━━━━━━━━━━━━━━━━━━━┳━━━━━━━━━━━━━━━━━┓\n",
       "┃<span style=\"font-weight: bold\"> Layer (type)                         </span>┃<span style=\"font-weight: bold\"> Output Shape                </span>┃<span style=\"font-weight: bold\">         Param # </span>┃\n",
       "┡━━━━━━━━━━━━━━━━━━━━━━━━━━━━━━━━━━━━━━╇━━━━━━━━━━━━━━━━━━━━━━━━━━━━━╇━━━━━━━━━━━━━━━━━┩\n",
       "│ conv2d (<span style=\"color: #0087ff; text-decoration-color: #0087ff\">Conv2D</span>)                      │ (<span style=\"color: #00d7ff; text-decoration-color: #00d7ff\">None</span>, <span style=\"color: #00af00; text-decoration-color: #00af00\">26</span>, <span style=\"color: #00af00; text-decoration-color: #00af00\">26</span>, <span style=\"color: #00af00; text-decoration-color: #00af00\">32</span>)          │             <span style=\"color: #00af00; text-decoration-color: #00af00\">320</span> │\n",
       "├──────────────────────────────────────┼─────────────────────────────┼─────────────────┤\n",
       "│ max_pooling2d (<span style=\"color: #0087ff; text-decoration-color: #0087ff\">MaxPooling2D</span>)         │ (<span style=\"color: #00d7ff; text-decoration-color: #00d7ff\">None</span>, <span style=\"color: #00af00; text-decoration-color: #00af00\">13</span>, <span style=\"color: #00af00; text-decoration-color: #00af00\">13</span>, <span style=\"color: #00af00; text-decoration-color: #00af00\">32</span>)          │               <span style=\"color: #00af00; text-decoration-color: #00af00\">0</span> │\n",
       "├──────────────────────────────────────┼─────────────────────────────┼─────────────────┤\n",
       "│ flatten (<span style=\"color: #0087ff; text-decoration-color: #0087ff\">Flatten</span>)                    │ (<span style=\"color: #00d7ff; text-decoration-color: #00d7ff\">None</span>, <span style=\"color: #00af00; text-decoration-color: #00af00\">5408</span>)                │               <span style=\"color: #00af00; text-decoration-color: #00af00\">0</span> │\n",
       "├──────────────────────────────────────┼─────────────────────────────┼─────────────────┤\n",
       "│ dense (<span style=\"color: #0087ff; text-decoration-color: #0087ff\">Dense</span>)                        │ (<span style=\"color: #00d7ff; text-decoration-color: #00d7ff\">None</span>, <span style=\"color: #00af00; text-decoration-color: #00af00\">128</span>)                 │         <span style=\"color: #00af00; text-decoration-color: #00af00\">692,352</span> │\n",
       "├──────────────────────────────────────┼─────────────────────────────┼─────────────────┤\n",
       "│ dense_1 (<span style=\"color: #0087ff; text-decoration-color: #0087ff\">Dense</span>)                      │ (<span style=\"color: #00d7ff; text-decoration-color: #00d7ff\">None</span>, <span style=\"color: #00af00; text-decoration-color: #00af00\">10</span>)                  │           <span style=\"color: #00af00; text-decoration-color: #00af00\">1,290</span> │\n",
       "└──────────────────────────────────────┴─────────────────────────────┴─────────────────┘\n",
       "</pre>\n"
      ],
      "text/plain": [
       "┏━━━━━━━━━━━━━━━━━━━━━━━━━━━━━━━━━━━━━━┳━━━━━━━━━━━━━━━━━━━━━━━━━━━━━┳━━━━━━━━━━━━━━━━━┓\n",
       "┃\u001b[1m \u001b[0m\u001b[1mLayer (type)                        \u001b[0m\u001b[1m \u001b[0m┃\u001b[1m \u001b[0m\u001b[1mOutput Shape               \u001b[0m\u001b[1m \u001b[0m┃\u001b[1m \u001b[0m\u001b[1m        Param #\u001b[0m\u001b[1m \u001b[0m┃\n",
       "┡━━━━━━━━━━━━━━━━━━━━━━━━━━━━━━━━━━━━━━╇━━━━━━━━━━━━━━━━━━━━━━━━━━━━━╇━━━━━━━━━━━━━━━━━┩\n",
       "│ conv2d (\u001b[38;5;33mConv2D\u001b[0m)                      │ (\u001b[38;5;45mNone\u001b[0m, \u001b[38;5;34m26\u001b[0m, \u001b[38;5;34m26\u001b[0m, \u001b[38;5;34m32\u001b[0m)          │             \u001b[38;5;34m320\u001b[0m │\n",
       "├──────────────────────────────────────┼─────────────────────────────┼─────────────────┤\n",
       "│ max_pooling2d (\u001b[38;5;33mMaxPooling2D\u001b[0m)         │ (\u001b[38;5;45mNone\u001b[0m, \u001b[38;5;34m13\u001b[0m, \u001b[38;5;34m13\u001b[0m, \u001b[38;5;34m32\u001b[0m)          │               \u001b[38;5;34m0\u001b[0m │\n",
       "├──────────────────────────────────────┼─────────────────────────────┼─────────────────┤\n",
       "│ flatten (\u001b[38;5;33mFlatten\u001b[0m)                    │ (\u001b[38;5;45mNone\u001b[0m, \u001b[38;5;34m5408\u001b[0m)                │               \u001b[38;5;34m0\u001b[0m │\n",
       "├──────────────────────────────────────┼─────────────────────────────┼─────────────────┤\n",
       "│ dense (\u001b[38;5;33mDense\u001b[0m)                        │ (\u001b[38;5;45mNone\u001b[0m, \u001b[38;5;34m128\u001b[0m)                 │         \u001b[38;5;34m692,352\u001b[0m │\n",
       "├──────────────────────────────────────┼─────────────────────────────┼─────────────────┤\n",
       "│ dense_1 (\u001b[38;5;33mDense\u001b[0m)                      │ (\u001b[38;5;45mNone\u001b[0m, \u001b[38;5;34m10\u001b[0m)                  │           \u001b[38;5;34m1,290\u001b[0m │\n",
       "└──────────────────────────────────────┴─────────────────────────────┴─────────────────┘\n"
      ]
     },
     "metadata": {},
     "output_type": "display_data"
    },
    {
     "data": {
      "text/html": [
       "<pre style=\"white-space:pre;overflow-x:auto;line-height:normal;font-family:Menlo,'DejaVu Sans Mono',consolas,'Courier New',monospace\"><span style=\"font-weight: bold\"> Total params: </span><span style=\"color: #00af00; text-decoration-color: #00af00\">693,962</span> (2.65 MB)\n",
       "</pre>\n"
      ],
      "text/plain": [
       "\u001b[1m Total params: \u001b[0m\u001b[38;5;34m693,962\u001b[0m (2.65 MB)\n"
      ]
     },
     "metadata": {},
     "output_type": "display_data"
    },
    {
     "data": {
      "text/html": [
       "<pre style=\"white-space:pre;overflow-x:auto;line-height:normal;font-family:Menlo,'DejaVu Sans Mono',consolas,'Courier New',monospace\"><span style=\"font-weight: bold\"> Trainable params: </span><span style=\"color: #00af00; text-decoration-color: #00af00\">693,962</span> (2.65 MB)\n",
       "</pre>\n"
      ],
      "text/plain": [
       "\u001b[1m Trainable params: \u001b[0m\u001b[38;5;34m693,962\u001b[0m (2.65 MB)\n"
      ]
     },
     "metadata": {},
     "output_type": "display_data"
    },
    {
     "data": {
      "text/html": [
       "<pre style=\"white-space:pre;overflow-x:auto;line-height:normal;font-family:Menlo,'DejaVu Sans Mono',consolas,'Courier New',monospace\"><span style=\"font-weight: bold\"> Non-trainable params: </span><span style=\"color: #00af00; text-decoration-color: #00af00\">0</span> (0.00 B)\n",
       "</pre>\n"
      ],
      "text/plain": [
       "\u001b[1m Non-trainable params: \u001b[0m\u001b[38;5;34m0\u001b[0m (0.00 B)\n"
      ]
     },
     "metadata": {},
     "output_type": "display_data"
    }
   ],
   "source": [
    "model.summary()"
   ]
  },
  {
   "cell_type": "code",
   "execution_count": 7,
   "id": "24b77588",
   "metadata": {
    "execution": {
     "iopub.execute_input": "2025-01-11T13:45:50.996167Z",
     "iopub.status.busy": "2025-01-11T13:45:50.995923Z",
     "iopub.status.idle": "2025-01-11T13:45:51.008381Z",
     "shell.execute_reply": "2025-01-11T13:45:51.007589Z"
    },
    "papermill": {
     "duration": 0.02005,
     "end_time": "2025-01-11T13:45:51.009952",
     "exception": false,
     "start_time": "2025-01-11T13:45:50.989902",
     "status": "completed"
    },
    "tags": []
   },
   "outputs": [],
   "source": [
    "model.compile(optimizer='adam',\n",
    "              loss='sparse_categorical_crossentropy',\n",
    "              metrics=['accuracy'])"
   ]
  },
  {
   "cell_type": "code",
   "execution_count": 8,
   "id": "8b711740",
   "metadata": {
    "execution": {
     "iopub.execute_input": "2025-01-11T13:45:51.021513Z",
     "iopub.status.busy": "2025-01-11T13:45:51.021274Z",
     "iopub.status.idle": "2025-01-11T13:46:24.424390Z",
     "shell.execute_reply": "2025-01-11T13:46:24.423649Z"
    },
    "papermill": {
     "duration": 33.410314,
     "end_time": "2025-01-11T13:46:24.425804",
     "exception": false,
     "start_time": "2025-01-11T13:45:51.015490",
     "status": "completed"
    },
    "tags": []
   },
   "outputs": [
    {
     "name": "stdout",
     "output_type": "stream",
     "text": [
      "Epoch 1/10\n",
      "\u001b[1m1875/1875\u001b[0m \u001b[32m━━━━━━━━━━━━━━━━━━━━\u001b[0m\u001b[37m\u001b[0m \u001b[1m7s\u001b[0m 2ms/step - accuracy: 0.9127 - loss: 0.2975 - val_accuracy: 0.9788 - val_loss: 0.0626\n",
      "Epoch 2/10\n",
      "\u001b[1m1875/1875\u001b[0m \u001b[32m━━━━━━━━━━━━━━━━━━━━\u001b[0m\u001b[37m\u001b[0m \u001b[1m3s\u001b[0m 2ms/step - accuracy: 0.9845 - loss: 0.0497 - val_accuracy: 0.9836 - val_loss: 0.0516\n",
      "Epoch 3/10\n",
      "\u001b[1m1875/1875\u001b[0m \u001b[32m━━━━━━━━━━━━━━━━━━━━\u001b[0m\u001b[37m\u001b[0m \u001b[1m3s\u001b[0m 2ms/step - accuracy: 0.9906 - loss: 0.0305 - val_accuracy: 0.9858 - val_loss: 0.0413\n",
      "Epoch 4/10\n",
      "\u001b[1m1875/1875\u001b[0m \u001b[32m━━━━━━━━━━━━━━━━━━━━\u001b[0m\u001b[37m\u001b[0m \u001b[1m3s\u001b[0m 2ms/step - accuracy: 0.9944 - loss: 0.0178 - val_accuracy: 0.9856 - val_loss: 0.0463\n",
      "Epoch 5/10\n",
      "\u001b[1m1875/1875\u001b[0m \u001b[32m━━━━━━━━━━━━━━━━━━━━\u001b[0m\u001b[37m\u001b[0m \u001b[1m3s\u001b[0m 2ms/step - accuracy: 0.9964 - loss: 0.0124 - val_accuracy: 0.9859 - val_loss: 0.0446\n",
      "Epoch 6/10\n",
      "\u001b[1m1875/1875\u001b[0m \u001b[32m━━━━━━━━━━━━━━━━━━━━\u001b[0m\u001b[37m\u001b[0m \u001b[1m3s\u001b[0m 2ms/step - accuracy: 0.9973 - loss: 0.0082 - val_accuracy: 0.9833 - val_loss: 0.0552\n",
      "Epoch 7/10\n",
      "\u001b[1m1875/1875\u001b[0m \u001b[32m━━━━━━━━━━━━━━━━━━━━\u001b[0m\u001b[37m\u001b[0m \u001b[1m3s\u001b[0m 2ms/step - accuracy: 0.9980 - loss: 0.0061 - val_accuracy: 0.9842 - val_loss: 0.0598\n",
      "Epoch 8/10\n",
      "\u001b[1m1875/1875\u001b[0m \u001b[32m━━━━━━━━━━━━━━━━━━━━\u001b[0m\u001b[37m\u001b[0m \u001b[1m3s\u001b[0m 2ms/step - accuracy: 0.9981 - loss: 0.0060 - val_accuracy: 0.9857 - val_loss: 0.0592\n",
      "Epoch 9/10\n",
      "\u001b[1m1853/1875\u001b[0m \u001b[32m━━━━━━━━━━━━━━━━━━━\u001b[0m\u001b[37m━\u001b[0m \u001b[1m0s\u001b[0m 2ms/step - accuracy: 0.9986 - loss: 0.0045\n",
      "Reached 99.8% accuracy so cancelling training!\n",
      "\u001b[1m1875/1875\u001b[0m \u001b[32m━━━━━━━━━━━━━━━━━━━━\u001b[0m\u001b[37m\u001b[0m \u001b[1m3s\u001b[0m 2ms/step - accuracy: 0.9986 - loss: 0.0045 - val_accuracy: 0.9873 - val_loss: 0.0522\n"
     ]
    },
    {
     "data": {
      "text/plain": [
       "<keras.src.callbacks.history.History at 0x7d17dec7e9b0>"
      ]
     },
     "execution_count": 8,
     "metadata": {},
     "output_type": "execute_result"
    }
   ],
   "source": [
    "model.fit(training_images,\n",
    "          training_labels,\n",
    "          epochs=10,\n",
    "          validation_data=(test_images, test_labels),\n",
    "          callbacks=[callbacks])"
   ]
  },
  {
   "cell_type": "code",
   "execution_count": 9,
   "id": "e41c091a",
   "metadata": {
    "execution": {
     "iopub.execute_input": "2025-01-11T13:46:24.480926Z",
     "iopub.status.busy": "2025-01-11T13:46:24.480644Z",
     "iopub.status.idle": "2025-01-11T13:46:24.485460Z",
     "shell.execute_reply": "2025-01-11T13:46:24.484660Z"
    },
    "papermill": {
     "duration": 0.032752,
     "end_time": "2025-01-11T13:46:24.486672",
     "exception": false,
     "start_time": "2025-01-11T13:46:24.453920",
     "status": "completed"
    },
    "tags": []
   },
   "outputs": [
    {
     "data": {
      "text/plain": [
       "{'accuracy': [0.9557499885559082,\n",
       "  0.9846333265304565,\n",
       "  0.9899166822433472,\n",
       "  0.9935666918754578,\n",
       "  0.9955999851226807,\n",
       "  0.9967333078384399,\n",
       "  0.9977166652679443,\n",
       "  0.9979833364486694,\n",
       "  0.9980999827384949],\n",
       " 'loss': [0.14858102798461914,\n",
       "  0.049736835062503815,\n",
       "  0.03163384646177292,\n",
       "  0.02017959952354431,\n",
       "  0.014067797921597958,\n",
       "  0.009922128170728683,\n",
       "  0.00704802805557847,\n",
       "  0.005885188467800617,\n",
       "  0.005725199822336435],\n",
       " 'val_accuracy': [0.9787999987602234,\n",
       "  0.9836000204086304,\n",
       "  0.98580002784729,\n",
       "  0.9855999946594238,\n",
       "  0.9858999848365784,\n",
       "  0.983299970626831,\n",
       "  0.9842000007629395,\n",
       "  0.9857000112533569,\n",
       "  0.9872999787330627],\n",
       " 'val_loss': [0.0626448392868042,\n",
       "  0.05160241201519966,\n",
       "  0.041315555572509766,\n",
       "  0.04632000997662544,\n",
       "  0.04456159844994545,\n",
       "  0.05518424138426781,\n",
       "  0.05977573245763779,\n",
       "  0.05920545756816864,\n",
       "  0.052156347781419754]}"
      ]
     },
     "execution_count": 9,
     "metadata": {},
     "output_type": "execute_result"
    }
   ],
   "source": [
    "v = model.history.history\n",
    "v"
   ]
  },
  {
   "cell_type": "code",
   "execution_count": 10,
   "id": "de8a91c4",
   "metadata": {
    "execution": {
     "iopub.execute_input": "2025-01-11T13:46:24.539920Z",
     "iopub.status.busy": "2025-01-11T13:46:24.539645Z",
     "iopub.status.idle": "2025-01-11T13:46:24.544831Z",
     "shell.execute_reply": "2025-01-11T13:46:24.544019Z"
    },
    "papermill": {
     "duration": 0.033207,
     "end_time": "2025-01-11T13:46:24.546171",
     "exception": false,
     "start_time": "2025-01-11T13:46:24.512964",
     "status": "completed"
    },
    "tags": []
   },
   "outputs": [],
   "source": [
    "from tensorflow.keras.utils import plot_model"
   ]
  },
  {
   "cell_type": "code",
   "execution_count": 11,
   "id": "c48b7bd6",
   "metadata": {
    "execution": {
     "iopub.execute_input": "2025-01-11T13:46:24.599182Z",
     "iopub.status.busy": "2025-01-11T13:46:24.598955Z",
     "iopub.status.idle": "2025-01-11T13:46:24.835794Z",
     "shell.execute_reply": "2025-01-11T13:46:24.834980Z"
    },
    "papermill": {
     "duration": 0.264837,
     "end_time": "2025-01-11T13:46:24.837098",
     "exception": false,
     "start_time": "2025-01-11T13:46:24.572261",
     "status": "completed"
    },
    "tags": []
   },
   "outputs": [
    {
     "data": {
      "image/png": "[encoded data removed]",
      "text/plain": [
       "<IPython.core.display.Image object>"
      ]
     },
     "execution_count": 11,
     "metadata": {},
     "output_type": "execute_result"
    }
   ],
   "source": [
    "plot_model(model)\n"
   ]
  },
  {
   "cell_type": "code",
   "execution_count": null,
   "id": "fcb2dadf",
   "metadata": {
    "papermill": {
     "duration": 0.026706,
     "end_time": "2025-01-11T13:46:24.891325",
     "exception": false,
     "start_time": "2025-01-11T13:46:24.864619",
     "status": "completed"
    },
    "tags": []
   },
   "outputs": [],
   "source": []
  }
 ],
 "metadata": {
  "kaggle": {
   "accelerator": "gpu",
   "dataSources": [],
   "dockerImageVersionId": 30823,
   "isGpuEnabled": true,
   "isInternetEnabled": true,
   "language": "python",
   "sourceType": "notebook"
  },
  "kernelspec": {
   "display_name": "Python 3",
   "language": "python",
   "name": "python3"
  },
  "language_info": {
   "codemirror_mode": {
    "name": "ipython",
    "version": 3
   },
   "file_extension": ".py",
   "mimetype": "text/x-python",
   "name": "python",
   "nbconvert_exporter": "python",
   "pygments_lexer": "ipython3",
   "version": "3.10.12"
  },
  "papermill": {
   "default_parameters": {},
   "duration": 47.750929,
   "end_time": "2025-01-11T13:46:27.281165",
   "environment_variables": {},
   "exception": null,
   "input_path": "__notebook__.ipynb",
   "output_path": "__notebook__.ipynb",
   "parameters": {},
   "start_time": "2025-01-11T13:45:39.530236",
   "version": "2.6.0"
  }
 },
 "nbformat": 4,
 "nbformat_minor": 5
}
