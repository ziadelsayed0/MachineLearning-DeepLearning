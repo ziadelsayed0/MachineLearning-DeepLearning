{
 "cells": [
  {
   "cell_type": "code",
   "execution_count": 1,
   "id": "8a286e7e",
   "metadata": {
    "_cell_guid": "b1076dfc-b9ad-4769-8c92-a6c4dae69d19",
    "_uuid": "8f2839f25d086af736a60e9eeb907d3b93b6e0e5",
    "execution": {
     "iopub.execute_input": "2025-01-08T11:43:20.722758Z",
     "iopub.status.busy": "2025-01-08T11:43:20.722443Z",
     "iopub.status.idle": "2025-01-08T11:43:29.036415Z",
     "shell.execute_reply": "2025-01-08T11:43:29.035708Z"
    },
    "papermill": {
     "duration": 8.320171,
     "end_time": "2025-01-08T11:43:29.038052",
     "exception": false,
     "start_time": "2025-01-08T11:43:20.717881",
     "status": "completed"
    },
    "tags": []
   },
   "outputs": [],
   "source": [
    "import tensorflow as tf\n",
    "from tensorflow import keras"
   ]
  },
  {
   "cell_type": "code",
   "execution_count": 2,
   "id": "f6d62433",
   "metadata": {
    "execution": {
     "iopub.execute_input": "2025-01-08T11:43:29.045928Z",
     "iopub.status.busy": "2025-01-08T11:43:29.045501Z",
     "iopub.status.idle": "2025-01-08T11:43:29.050895Z",
     "shell.execute_reply": "2025-01-08T11:43:29.050072Z"
    },
    "papermill": {
     "duration": 0.010415,
     "end_time": "2025-01-08T11:43:29.052198",
     "exception": false,
     "start_time": "2025-01-08T11:43:29.041783",
     "status": "completed"
    },
    "tags": []
   },
   "outputs": [
    {
     "data": {
      "text/plain": [
       "'2.17.0'"
      ]
     },
     "execution_count": 2,
     "metadata": {},
     "output_type": "execute_result"
    }
   ],
   "source": [
    "tf.__version__"
   ]
  },
  {
   "cell_type": "code",
   "execution_count": 3,
   "id": "75c35490",
   "metadata": {
    "execution": {
     "iopub.execute_input": "2025-01-08T11:43:29.059467Z",
     "iopub.status.busy": "2025-01-08T11:43:29.059203Z",
     "iopub.status.idle": "2025-01-08T11:43:29.085121Z",
     "shell.execute_reply": "2025-01-08T11:43:29.084342Z"
    },
    "papermill": {
     "duration": 0.030821,
     "end_time": "2025-01-08T11:43:29.086409",
     "exception": false,
     "start_time": "2025-01-08T11:43:29.055588",
     "status": "completed"
    },
    "tags": []
   },
   "outputs": [
    {
     "data": {
      "text/plain": [
       "'3.4.1'"
      ]
     },
     "execution_count": 3,
     "metadata": {},
     "output_type": "execute_result"
    }
   ],
   "source": [
    "keras.__version__"
   ]
  },
  {
   "cell_type": "code",
   "execution_count": 4,
   "id": "5b121bfe",
   "metadata": {
    "execution": {
     "iopub.execute_input": "2025-01-08T11:43:29.093580Z",
     "iopub.status.busy": "2025-01-08T11:43:29.093360Z",
     "iopub.status.idle": "2025-01-08T11:43:30.408625Z",
     "shell.execute_reply": "2025-01-08T11:43:30.407887Z"
    },
    "papermill": {
     "duration": 1.320516,
     "end_time": "2025-01-08T11:43:30.410205",
     "exception": false,
     "start_time": "2025-01-08T11:43:29.089689",
     "status": "completed"
    },
    "tags": []
   },
   "outputs": [
    {
     "name": "stdout",
     "output_type": "stream",
     "text": [
      "Downloading data from https://storage.googleapis.com/tensorflow/tf-keras-datasets/mnist.npz\n",
      "\u001b[1m11490434/11490434\u001b[0m \u001b[32m━━━━━━━━━━━━━━━━━━━━\u001b[0m\u001b[37m\u001b[0m \u001b[1m1s\u001b[0m 0us/step\n"
     ]
    }
   ],
   "source": [
    "(x_train, y_train), (x_test, y_test) = keras.datasets.mnist.load_data()"
   ]
  },
  {
   "cell_type": "code",
   "execution_count": 5,
   "id": "4a956324",
   "metadata": {
    "execution": {
     "iopub.execute_input": "2025-01-08T11:43:30.419623Z",
     "iopub.status.busy": "2025-01-08T11:43:30.419381Z",
     "iopub.status.idle": "2025-01-08T11:43:30.425777Z",
     "shell.execute_reply": "2025-01-08T11:43:30.425104Z"
    },
    "papermill": {
     "duration": 0.012207,
     "end_time": "2025-01-08T11:43:30.426925",
     "exception": false,
     "start_time": "2025-01-08T11:43:30.414718",
     "status": "completed"
    },
    "tags": []
   },
   "outputs": [
    {
     "data": {
      "text/plain": [
       "array([[  0,   0,   0,   0,   0,   0,   0,   0,   0,   0,   0,   0,   0,   0,   0,   0,   0,   0,   0,   0,   0,   0,   0,   0,   0,   0,   0,   0],\n",
       "       [  0,   0,   0,   0,   0,   0,   0,   0,   0,   0,   0,   0,   0,   0,   0,   0,   0,   0,   0,   0,   0,   0,   0,   0,   0,   0,   0,   0],\n",
       "       [  0,   0,   0,   0,   0,   0,   0,   0,   0,   0,   0,   0,   0,   0,   0,   0,   0,   0,   0,   0,   0,   0,   0,   0,   0,   0,   0,   0],\n",
       "       [  0,   0,   0,   0,   0,   0,   0,   0,   0,   0,   0,   0,   0,   0,   0,   0,   0,   0,   0,   0,   0,   0,   0,   0,   0,   0,   0,   0],\n",
       "       [  0,   0,   0,   0,   0,   0,   0,   0,   0,   0,   0,   0,   0,   0,   0,  51, 159, 253, 159,  50,   0,   0,   0,   0,   0,   0,   0,   0],\n",
       "       [  0,   0,   0,   0,   0,   0,   0,   0,   0,   0,   0,   0,   0,   0,  48, 238, 252, 252, 252, 237,   0,   0,   0,   0,   0,   0,   0,   0],\n",
       "       [  0,   0,   0,   0,   0,   0,   0,   0,   0,   0,   0,   0,   0,  54, 227, 253, 252, 239, 233, 252,  57,   6,   0,   0,   0,   0,   0,   0],\n",
       "       [  0,   0,   0,   0,   0,   0,   0,   0,   0,   0,   0,  10,  60, 224, 252, 253, 252, 202,  84, 252, 253, 122,   0,   0,   0,   0,   0,   0],\n",
       "       [  0,   0,   0,   0,   0,   0,   0,   0,   0,   0,   0, 163, 252, 252, 252, 253, 252, 252,  96, 189, 253, 167,   0,   0,   0,   0,   0,   0],\n",
       "       [  0,   0,   0,   0,   0,   0,   0,   0,   0,   0,  51, 238, 253, 253, 190, 114, 253, 228,  47,  79, 255, 168,   0,   0,   0,   0,   0,   0],\n",
       "       [  0,   0,   0,   0,   0,   0,   0,   0,   0,  48, 238, 252, 252, 179,  12,  75, 121,  21,   0,   0, 253, 243,  50,   0,   0,   0,   0,   0],\n",
       "       [  0,   0,   0,   0,   0,   0,   0,   0,  38, 165, 253, 233, 208,  84,   0,   0,   0,   0,   0,   0, 253, 252, 165,   0,   0,   0,   0,   0],\n",
       "       [  0,   0,   0,   0,   0,   0,   0,   7, 178, 252, 240,  71,  19,  28,   0,   0,   0,   0,   0,   0, 253, 252, 195,   0,   0,   0,   0,   0],\n",
       "       [  0,   0,   0,   0,   0,   0,   0,  57, 252, 252,  63,   0,   0,   0,   0,   0,   0,   0,   0,   0, 253, 252, 195,   0,   0,   0,   0,   0],\n",
       "       [  0,   0,   0,   0,   0,   0,   0, 198, 253, 190,   0,   0,   0,   0,   0,   0,   0,   0,   0,   0, 255, 253, 196,   0,   0,   0,   0,   0],\n",
       "       [  0,   0,   0,   0,   0,   0,  76, 246, 252, 112,   0,   0,   0,   0,   0,   0,   0,   0,   0,   0, 253, 252, 148,   0,   0,   0,   0,   0],\n",
       "       [  0,   0,   0,   0,   0,   0,  85, 252, 230,  25,   0,   0,   0,   0,   0,   0,   0,   0,   7, 135, 253, 186,  12,   0,   0,   0,   0,   0],\n",
       "       [  0,   0,   0,   0,   0,   0,  85, 252, 223,   0,   0,   0,   0,   0,   0,   0,   0,   7, 131, 252, 225,  71,   0,   0,   0,   0,   0,   0],\n",
       "       [  0,   0,   0,   0,   0,   0,  85, 252, 145,   0,   0,   0,   0,   0,   0,   0,  48, 165, 252, 173,   0,   0,   0,   0,   0,   0,   0,   0],\n",
       "       [  0,   0,   0,   0,   0,   0,  86, 253, 225,   0,   0,   0,   0,   0,   0, 114, 238, 253, 162,   0,   0,   0,   0,   0,   0,   0,   0,   0],\n",
       "       [  0,   0,   0,   0,   0,   0,  85, 252, 249, 146,  48,  29,  85, 178, 225, 253, 223, 167,  56,   0,   0,   0,   0,   0,   0,   0,   0,   0],\n",
       "       [  0,   0,   0,   0,   0,   0,  85, 252, 252, 252, 229, 215, 252, 252, 252, 196, 130,   0,   0,   0,   0,   0,   0,   0,   0,   0,   0,   0],\n",
       "       [  0,   0,   0,   0,   0,   0,  28, 199, 252, 252, 253, 252, 252, 233, 145,   0,   0,   0,   0,   0,   0,   0,   0,   0,   0,   0,   0,   0],\n",
       "       [  0,   0,   0,   0,   0,   0,   0,  25, 128, 252, 253, 252, 141,  37,   0,   0,   0,   0,   0,   0,   0,   0,   0,   0,   0,   0,   0,   0],\n",
       "       [  0,   0,   0,   0,   0,   0,   0,   0,   0,   0,   0,   0,   0,   0,   0,   0,   0,   0,   0,   0,   0,   0,   0,   0,   0,   0,   0,   0],\n",
       "       [  0,   0,   0,   0,   0,   0,   0,   0,   0,   0,   0,   0,   0,   0,   0,   0,   0,   0,   0,   0,   0,   0,   0,   0,   0,   0,   0,   0],\n",
       "       [  0,   0,   0,   0,   0,   0,   0,   0,   0,   0,   0,   0,   0,   0,   0,   0,   0,   0,   0,   0,   0,   0,   0,   0,   0,   0,   0,   0],\n",
       "       [  0,   0,   0,   0,   0,   0,   0,   0,   0,   0,   0,   0,   0,   0,   0,   0,   0,   0,   0,   0,   0,   0,   0,   0,   0,   0,   0,   0]], dtype=uint8)"
      ]
     },
     "execution_count": 5,
     "metadata": {},
     "output_type": "execute_result"
    }
   ],
   "source": [
    "import numpy as np\n",
    "np.set_printoptions(linewidth=5000)\n",
    "x_train[1]"
   ]
  },
  {
   "cell_type": "code",
   "execution_count": 6,
   "id": "974c36e6",
   "metadata": {
    "execution": {
     "iopub.execute_input": "2025-01-08T11:43:30.436171Z",
     "iopub.status.busy": "2025-01-08T11:43:30.435963Z",
     "iopub.status.idle": "2025-01-08T11:43:30.439685Z",
     "shell.execute_reply": "2025-01-08T11:43:30.439080Z"
    },
    "papermill": {
     "duration": 0.009621,
     "end_time": "2025-01-08T11:43:30.440853",
     "exception": false,
     "start_time": "2025-01-08T11:43:30.431232",
     "status": "completed"
    },
    "tags": []
   },
   "outputs": [],
   "source": [
    "%matplotlib inline \n",
    "import matplotlib.pyplot as plt"
   ]
  },
  {
   "cell_type": "code",
   "execution_count": 7,
   "id": "538961de",
   "metadata": {
    "execution": {
     "iopub.execute_input": "2025-01-08T11:43:30.451250Z",
     "iopub.status.busy": "2025-01-08T11:43:30.451020Z",
     "iopub.status.idle": "2025-01-08T11:43:30.697330Z",
     "shell.execute_reply": "2025-01-08T11:43:30.696528Z"
    },
    "papermill": {
     "duration": 0.252177,
     "end_time": "2025-01-08T11:43:30.698554",
     "exception": false,
     "start_time": "2025-01-08T11:43:30.446377",
     "status": "completed"
    },
    "tags": []
   },
   "outputs": [
    {
     "data": {
      "text/plain": [
       "<matplotlib.image.AxesImage at 0x7b4ba351ab00>"
      ]
     },
     "execution_count": 7,
     "metadata": {},
     "output_type": "execute_result"
    },
    {
     "data": {
      "image/png": "[encoded data removed]",
      "text/plain": [
       "<Figure size 640x480 with 1 Axes>"
      ]
     },
     "metadata": {},
     "output_type": "display_data"
    }
   ],
   "source": [
    "plt.imshow(x_train[9])"
   ]
  },
  {
   "cell_type": "code",
   "execution_count": 8,
   "id": "481df43d",
   "metadata": {
    "execution": {
     "iopub.execute_input": "2025-01-08T11:43:30.708386Z",
     "iopub.status.busy": "2025-01-08T11:43:30.708124Z",
     "iopub.status.idle": "2025-01-08T11:43:30.843706Z",
     "shell.execute_reply": "2025-01-08T11:43:30.842974Z"
    },
    "papermill": {
     "duration": 0.142103,
     "end_time": "2025-01-08T11:43:30.845282",
     "exception": false,
     "start_time": "2025-01-08T11:43:30.703179",
     "status": "completed"
    },
    "tags": []
   },
   "outputs": [],
   "source": [
    "#scaling values\n",
    "\n",
    "x_train = x_train / 255.0\n",
    "x_test = x_test / 255.0"
   ]
  },
  {
   "cell_type": "code",
   "execution_count": 9,
   "id": "5fc32fd5",
   "metadata": {
    "execution": {
     "iopub.execute_input": "2025-01-08T11:43:30.855625Z",
     "iopub.status.busy": "2025-01-08T11:43:30.855347Z",
     "iopub.status.idle": "2025-01-08T11:43:30.864278Z",
     "shell.execute_reply": "2025-01-08T11:43:30.863289Z"
    },
    "papermill": {
     "duration": 0.01534,
     "end_time": "2025-01-08T11:43:30.865631",
     "exception": false,
     "start_time": "2025-01-08T11:43:30.850291",
     "status": "completed"
    },
    "tags": []
   },
   "outputs": [
    {
     "data": {
      "text/plain": [
       "array([[0.        , 0.        , 0.        , 0.        , 0.        , 0.        , 0.        , 0.        , 0.        , 0.        , 0.        , 0.        , 0.        , 0.        , 0.        , 0.        , 0.        , 0.        , 0.        , 0.        , 0.        , 0.        , 0.        , 0.        , 0.        , 0.        , 0.        , 0.        ],\n",
       "       [0.        , 0.        , 0.        , 0.        , 0.        , 0.        , 0.        , 0.        , 0.        , 0.        , 0.        , 0.        , 0.        , 0.        , 0.        , 0.        , 0.        , 0.        , 0.        , 0.        , 0.        , 0.        , 0.        , 0.        , 0.        , 0.        , 0.        , 0.        ],\n",
       "       [0.        , 0.        , 0.        , 0.        , 0.        , 0.        , 0.        , 0.        , 0.        , 0.        , 0.        , 0.        , 0.        , 0.        , 0.        , 0.        , 0.        , 0.        , 0.        , 0.        , 0.        , 0.        , 0.        , 0.        , 0.        , 0.        , 0.        , 0.        ],\n",
       "       [0.        , 0.        , 0.        , 0.        , 0.        , 0.        , 0.        , 0.        , 0.        , 0.        , 0.        , 0.        , 0.        , 0.        , 0.        , 0.        , 0.        , 0.        , 0.        , 0.        , 0.        , 0.        , 0.        , 0.        , 0.        , 0.        , 0.        , 0.        ],\n",
       "       [0.        , 0.        , 0.        , 0.        , 0.        , 0.        , 0.        , 0.        , 0.        , 0.        , 0.        , 0.        , 0.        , 0.        , 0.        , 0.        , 0.        , 0.        , 0.        , 0.        , 0.        , 0.        , 0.        , 0.        , 0.        , 0.        , 0.        , 0.        ],\n",
       "       [0.        , 0.        , 0.        , 0.        , 0.        , 0.        , 0.        , 0.        , 0.        , 0.        , 0.        , 0.        , 0.        , 0.        , 0.        , 0.05098039, 0.09803922, 0.39215686, 0.47843137, 0.02745098, 0.        , 0.        , 0.        , 0.        , 0.        , 0.        , 0.        , 0.        ],\n",
       "       [0.        , 0.        , 0.        , 0.        , 0.        , 0.        , 0.        , 0.        , 0.        , 0.        , 0.        , 0.        , 0.        , 0.12941176, 0.59215686, 0.81568627, 0.98823529, 0.98823529, 0.98823529, 0.57254902, 0.        , 0.        , 0.        , 0.        , 0.        , 0.        , 0.        , 0.        ],\n",
       "       [0.        , 0.        , 0.        , 0.        , 0.        , 0.        , 0.        , 0.        , 0.        , 0.        , 0.        , 0.15686275, 0.59607843, 0.95686275, 0.98823529, 0.99215686, 0.87843137, 0.82745098, 0.98823529, 0.90980392, 0.15686275, 0.        , 0.        , 0.        , 0.        , 0.        , 0.        , 0.        ],\n",
       "       [0.        , 0.        , 0.        , 0.        , 0.        , 0.        , 0.        , 0.        , 0.        , 0.05882353, 0.59607843, 0.9372549 , 0.98823529, 0.98823529, 0.98823529, 0.84705882, 0.12156863, 0.14509804, 0.98823529, 0.98823529, 0.23529412, 0.        , 0.        , 0.        , 0.        , 0.        , 0.        , 0.        ],\n",
       "       [0.        , 0.        , 0.        , 0.        , 0.        , 0.        , 0.        , 0.        , 0.        , 0.37647059, 0.98823529, 0.98823529, 0.98823529, 0.98823529, 0.85098039, 0.11372549, 0.        , 0.14509804, 0.98823529, 0.98823529, 0.23529412, 0.        , 0.        , 0.        , 0.        , 0.        , 0.        , 0.        ],\n",
       "       [0.        , 0.        , 0.        , 0.        , 0.        , 0.        , 0.        , 0.        , 0.        , 0.70980392, 0.98823529, 0.98823529, 0.8627451 , 0.65490196, 0.11764706, 0.        , 0.        , 0.30196078, 0.98823529, 0.98823529, 0.23529412, 0.        , 0.        , 0.        , 0.        , 0.        , 0.        , 0.        ],\n",
       "       [0.        , 0.        , 0.        , 0.        , 0.        , 0.        , 0.        , 0.        , 0.        , 0.10196078, 0.50196078, 0.22745098, 0.08627451, 0.        , 0.        , 0.        , 0.        , 0.39215686, 0.98823529, 0.98823529, 0.23529412, 0.        , 0.        , 0.        , 0.        , 0.        , 0.        , 0.        ],\n",
       "       [0.        , 0.        , 0.        , 0.        , 0.        , 0.        , 0.        , 0.        , 0.        , 0.        , 0.        , 0.        , 0.        , 0.        , 0.        , 0.        , 0.        , 0.61568627, 0.98823529, 0.98823529, 0.23529412, 0.        , 0.        , 0.        , 0.        , 0.        , 0.        , 0.        ],\n",
       "       [0.        , 0.        , 0.        , 0.        , 0.        , 0.        , 0.        , 0.        , 0.        , 0.        , 0.        , 0.        , 0.        , 0.43137255, 0.4745098 , 0.47843137, 0.4745098 , 0.79215686, 0.98823529, 0.76078431, 0.01176471, 0.        , 0.        , 0.        , 0.        , 0.        , 0.        , 0.        ],\n",
       "       [0.        , 0.        , 0.        , 0.        , 0.        , 0.        , 0.        , 0.        , 0.        , 0.        , 0.03921569, 0.20784314, 0.70196078, 0.99215686, 0.99215686, 1.        , 0.99215686, 0.99215686, 0.89411765, 0.1372549 , 0.        , 0.        , 0.        , 0.        , 0.        , 0.        , 0.        , 0.        ],\n",
       "       [0.        , 0.        , 0.        , 0.        , 0.        , 0.        , 0.        , 0.        , 0.01960784, 0.21176471, 0.89019608, 0.98823529, 0.95294118, 0.89411765, 0.66666667, 0.94901961, 0.98823529, 0.98823529, 0.90588235, 0.45882353, 0.02352941, 0.        , 0.        , 0.        , 0.        , 0.        , 0.        , 0.        ],\n",
       "       [0.        , 0.        , 0.        , 0.        , 0.        , 0.        , 0.        , 0.02352941, 0.30588235, 0.98823529, 0.98823529, 0.49019608, 0.23137255, 0.        , 0.07058824, 0.81568627, 0.98823529, 0.98823529, 0.98823529, 0.98823529, 0.34117647, 0.02745098, 0.        , 0.        , 0.        , 0.        , 0.        , 0.        ],\n",
       "       [0.        , 0.        , 0.        , 0.        , 0.        , 0.        , 0.01960784, 0.52941176, 0.98823529, 0.98823529, 0.70588235, 0.0627451 , 0.        , 0.08235294, 0.79607843, 0.99215686, 0.96862745, 0.50588235, 0.67843137, 0.98823529, 0.98823529, 0.72156863, 0.25882353, 0.19215686, 0.19215686, 0.        , 0.        , 0.        ],\n",
       "       [0.        , 0.        , 0.        , 0.        , 0.        , 0.01176471, 0.53333333, 0.98823529, 0.94509804, 0.41568627, 0.06666667, 0.        , 0.20784314, 0.78431373, 0.98823529, 0.84705882, 0.25490196, 0.        , 0.05490196, 0.28235294, 0.63921569, 0.94509804, 0.98823529, 0.98823529, 0.8745098 , 0.        , 0.        , 0.        ],\n",
       "       [0.        , 0.        , 0.        , 0.        , 0.        , 0.41176471, 0.98823529, 0.94901961, 0.34509804, 0.07058824, 0.28627451, 0.66666667, 0.95686275, 0.98823529, 0.49411765, 0.11372549, 0.        , 0.        , 0.        , 0.        , 0.        , 0.34901961, 0.70588235, 0.70588235, 0.14509804, 0.        , 0.        , 0.        ],\n",
       "       [0.        , 0.        , 0.        , 0.        , 0.        , 0.90588235, 0.98823529, 0.96078431, 0.80392157, 0.84705882, 0.98823529, 0.98823529, 0.98823529, 0.48627451, 0.01176471, 0.        , 0.        , 0.        , 0.        , 0.        , 0.        , 0.        , 0.        , 0.        , 0.        , 0.        , 0.        , 0.        ],\n",
       "       [0.        , 0.        , 0.        , 0.        , 0.        , 0.81176471, 0.98823529, 0.98823529, 0.98823529, 0.98823529, 0.69803922, 0.45490196, 0.14117647, 0.01568627, 0.        , 0.        , 0.        , 0.        , 0.        , 0.        , 0.        , 0.        , 0.        , 0.        , 0.        , 0.        , 0.        , 0.        ],\n",
       "       [0.        , 0.        , 0.        , 0.        , 0.        , 0.05098039, 0.36470588, 0.56078431, 0.4745098 , 0.09019608, 0.02352941, 0.        , 0.        , 0.        , 0.        , 0.        , 0.        , 0.        , 0.        , 0.        , 0.        , 0.        , 0.        , 0.        , 0.        , 0.        , 0.        , 0.        ],\n",
       "       [0.        , 0.        , 0.        , 0.        , 0.        , 0.        , 0.        , 0.        , 0.        , 0.        , 0.        , 0.        , 0.        , 0.        , 0.        , 0.        , 0.        , 0.        , 0.        , 0.        , 0.        , 0.        , 0.        , 0.        , 0.        , 0.        , 0.        , 0.        ],\n",
       "       [0.        , 0.        , 0.        , 0.        , 0.        , 0.        , 0.        , 0.        , 0.        , 0.        , 0.        , 0.        , 0.        , 0.        , 0.        , 0.        , 0.        , 0.        , 0.        , 0.        , 0.        , 0.        , 0.        , 0.        , 0.        , 0.        , 0.        , 0.        ],\n",
       "       [0.        , 0.        , 0.        , 0.        , 0.        , 0.        , 0.        , 0.        , 0.        , 0.        , 0.        , 0.        , 0.        , 0.        , 0.        , 0.        , 0.        , 0.        , 0.        , 0.        , 0.        , 0.        , 0.        , 0.        , 0.        , 0.        , 0.        , 0.        ],\n",
       "       [0.        , 0.        , 0.        , 0.        , 0.        , 0.        , 0.        , 0.        , 0.        , 0.        , 0.        , 0.        , 0.        , 0.        , 0.        , 0.        , 0.        , 0.        , 0.        , 0.        , 0.        , 0.        , 0.        , 0.        , 0.        , 0.        , 0.        , 0.        ],\n",
       "       [0.        , 0.        , 0.        , 0.        , 0.        , 0.        , 0.        , 0.        , 0.        , 0.        , 0.        , 0.        , 0.        , 0.        , 0.        , 0.        , 0.        , 0.        , 0.        , 0.        , 0.        , 0.        , 0.        , 0.        , 0.        , 0.        , 0.        , 0.        ]])"
      ]
     },
     "execution_count": 9,
     "metadata": {},
     "output_type": "execute_result"
    }
   ],
   "source": [
    "x_train[5]"
   ]
  },
  {
   "cell_type": "code",
   "execution_count": 10,
   "id": "189a2e37",
   "metadata": {
    "execution": {
     "iopub.execute_input": "2025-01-08T11:43:30.875694Z",
     "iopub.status.busy": "2025-01-08T11:43:30.875476Z",
     "iopub.status.idle": "2025-01-08T11:43:30.879646Z",
     "shell.execute_reply": "2025-01-08T11:43:30.879051Z"
    },
    "papermill": {
     "duration": 0.010517,
     "end_time": "2025-01-08T11:43:30.880837",
     "exception": false,
     "start_time": "2025-01-08T11:43:30.870320",
     "status": "completed"
    },
    "tags": []
   },
   "outputs": [],
   "source": [
    "from tensorflow.keras import Sequential\n",
    "from tensorflow.keras.layers import Dense, Flatten"
   ]
  },
  {
   "cell_type": "code",
   "execution_count": 11,
   "id": "23a9f344",
   "metadata": {
    "execution": {
     "iopub.execute_input": "2025-01-08T11:43:30.890949Z",
     "iopub.status.busy": "2025-01-08T11:43:30.890731Z",
     "iopub.status.idle": "2025-01-08T11:43:31.593842Z",
     "shell.execute_reply": "2025-01-08T11:43:31.593139Z"
    },
    "papermill": {
     "duration": 0.70969,
     "end_time": "2025-01-08T11:43:31.595320",
     "exception": false,
     "start_time": "2025-01-08T11:43:30.885630",
     "status": "completed"
    },
    "tags": []
   },
   "outputs": [
    {
     "name": "stderr",
     "output_type": "stream",
     "text": [
      "/usr/local/lib/python3.10/dist-packages/keras/src/layers/reshaping/flatten.py:37: UserWarning: Do not pass an `input_shape`/`input_dim` argument to a layer. When using Sequential models, prefer using an `Input(shape)` object as the first layer in the model instead.\n",
      "  super().__init__(**kwargs)\n"
     ]
    }
   ],
   "source": [
    "model = Sequential()\n",
    "model.add(Flatten(input_shape = (28,28)))\n",
    "model.add(Dense(units=64, activation ='relu'))\n",
    "model.add(Dense(units = 32, activation = 'relu'))\n",
    "model.add(Dense(units = 16, activation = 'relu'))\n",
    "model.add(Dense(units = 10 ,activation='softmax'))"
   ]
  },
  {
   "cell_type": "code",
   "execution_count": 12,
   "id": "74d5c255",
   "metadata": {
    "execution": {
     "iopub.execute_input": "2025-01-08T11:43:31.606236Z",
     "iopub.status.busy": "2025-01-08T11:43:31.605983Z",
     "iopub.status.idle": "2025-01-08T11:43:31.620949Z",
     "shell.execute_reply": "2025-01-08T11:43:31.620115Z"
    },
    "papermill": {
     "duration": 0.021753,
     "end_time": "2025-01-08T11:43:31.622209",
     "exception": false,
     "start_time": "2025-01-08T11:43:31.600456",
     "status": "completed"
    },
    "tags": []
   },
   "outputs": [
    {
     "data": {
      "text/html": [
       "<pre style=\"white-space:pre;overflow-x:auto;line-height:normal;font-family:Menlo,'DejaVu Sans Mono',consolas,'Courier New',monospace\"><span style=\"font-weight: bold\">Model: \"sequential\"</span>\n",
       "</pre>\n"
      ],
      "text/plain": [
       "\u001b[1mModel: \"sequential\"\u001b[0m\n"
      ]
     },
     "metadata": {},
     "output_type": "display_data"
    },
    {
     "data": {
      "text/html": [
       "<pre style=\"white-space:pre;overflow-x:auto;line-height:normal;font-family:Menlo,'DejaVu Sans Mono',consolas,'Courier New',monospace\">┏━━━━━━━━━━━━━━━━━━━━━━━━━━━━━━━━━━━━━━┳━━━━━━━━━━━━━━━━━━━━━━━━━━━━━┳━━━━━━━━━━━━━━━━━┓\n",
       "┃<span style=\"font-weight: bold\"> Layer (type)                         </span>┃<span style=\"font-weight: bold\"> Output Shape                </span>┃<span style=\"font-weight: bold\">         Param # </span>┃\n",
       "┡━━━━━━━━━━━━━━━━━━━━━━━━━━━━━━━━━━━━━━╇━━━━━━━━━━━━━━━━━━━━━━━━━━━━━╇━━━━━━━━━━━━━━━━━┩\n",
       "│ flatten (<span style=\"color: #0087ff; text-decoration-color: #0087ff\">Flatten</span>)                    │ (<span style=\"color: #00d7ff; text-decoration-color: #00d7ff\">None</span>, <span style=\"color: #00af00; text-decoration-color: #00af00\">784</span>)                 │               <span style=\"color: #00af00; text-decoration-color: #00af00\">0</span> │\n",
       "├──────────────────────────────────────┼─────────────────────────────┼─────────────────┤\n",
       "│ dense (<span style=\"color: #0087ff; text-decoration-color: #0087ff\">Dense</span>)                        │ (<span style=\"color: #00d7ff; text-decoration-color: #00d7ff\">None</span>, <span style=\"color: #00af00; text-decoration-color: #00af00\">64</span>)                  │          <span style=\"color: #00af00; text-decoration-color: #00af00\">50,240</span> │\n",
       "├──────────────────────────────────────┼─────────────────────────────┼─────────────────┤\n",
       "│ dense_1 (<span style=\"color: #0087ff; text-decoration-color: #0087ff\">Dense</span>)                      │ (<span style=\"color: #00d7ff; text-decoration-color: #00d7ff\">None</span>, <span style=\"color: #00af00; text-decoration-color: #00af00\">32</span>)                  │           <span style=\"color: #00af00; text-decoration-color: #00af00\">2,080</span> │\n",
       "├──────────────────────────────────────┼─────────────────────────────┼─────────────────┤\n",
       "│ dense_2 (<span style=\"color: #0087ff; text-decoration-color: #0087ff\">Dense</span>)                      │ (<span style=\"color: #00d7ff; text-decoration-color: #00d7ff\">None</span>, <span style=\"color: #00af00; text-decoration-color: #00af00\">16</span>)                  │             <span style=\"color: #00af00; text-decoration-color: #00af00\">528</span> │\n",
       "├──────────────────────────────────────┼─────────────────────────────┼─────────────────┤\n",
       "│ dense_3 (<span style=\"color: #0087ff; text-decoration-color: #0087ff\">Dense</span>)                      │ (<span style=\"color: #00d7ff; text-decoration-color: #00d7ff\">None</span>, <span style=\"color: #00af00; text-decoration-color: #00af00\">10</span>)                  │             <span style=\"color: #00af00; text-decoration-color: #00af00\">170</span> │\n",
       "└──────────────────────────────────────┴─────────────────────────────┴─────────────────┘\n",
       "</pre>\n"
      ],
      "text/plain": [
       "┏━━━━━━━━━━━━━━━━━━━━━━━━━━━━━━━━━━━━━━┳━━━━━━━━━━━━━━━━━━━━━━━━━━━━━┳━━━━━━━━━━━━━━━━━┓\n",
       "┃\u001b[1m \u001b[0m\u001b[1mLayer (type)                        \u001b[0m\u001b[1m \u001b[0m┃\u001b[1m \u001b[0m\u001b[1mOutput Shape               \u001b[0m\u001b[1m \u001b[0m┃\u001b[1m \u001b[0m\u001b[1m        Param #\u001b[0m\u001b[1m \u001b[0m┃\n",
       "┡━━━━━━━━━━━━━━━━━━━━━━━━━━━━━━━━━━━━━━╇━━━━━━━━━━━━━━━━━━━━━━━━━━━━━╇━━━━━━━━━━━━━━━━━┩\n",
       "│ flatten (\u001b[38;5;33mFlatten\u001b[0m)                    │ (\u001b[38;5;45mNone\u001b[0m, \u001b[38;5;34m784\u001b[0m)                 │               \u001b[38;5;34m0\u001b[0m │\n",
       "├──────────────────────────────────────┼─────────────────────────────┼─────────────────┤\n",
       "│ dense (\u001b[38;5;33mDense\u001b[0m)                        │ (\u001b[38;5;45mNone\u001b[0m, \u001b[38;5;34m64\u001b[0m)                  │          \u001b[38;5;34m50,240\u001b[0m │\n",
       "├──────────────────────────────────────┼─────────────────────────────┼─────────────────┤\n",
       "│ dense_1 (\u001b[38;5;33mDense\u001b[0m)                      │ (\u001b[38;5;45mNone\u001b[0m, \u001b[38;5;34m32\u001b[0m)                  │           \u001b[38;5;34m2,080\u001b[0m │\n",
       "├──────────────────────────────────────┼─────────────────────────────┼─────────────────┤\n",
       "│ dense_2 (\u001b[38;5;33mDense\u001b[0m)                      │ (\u001b[38;5;45mNone\u001b[0m, \u001b[38;5;34m16\u001b[0m)                  │             \u001b[38;5;34m528\u001b[0m │\n",
       "├──────────────────────────────────────┼─────────────────────────────┼─────────────────┤\n",
       "│ dense_3 (\u001b[38;5;33mDense\u001b[0m)                      │ (\u001b[38;5;45mNone\u001b[0m, \u001b[38;5;34m10\u001b[0m)                  │             \u001b[38;5;34m170\u001b[0m │\n",
       "└──────────────────────────────────────┴─────────────────────────────┴─────────────────┘\n"
      ]
     },
     "metadata": {},
     "output_type": "display_data"
    },
    {
     "data": {
      "text/html": [
       "<pre style=\"white-space:pre;overflow-x:auto;line-height:normal;font-family:Menlo,'DejaVu Sans Mono',consolas,'Courier New',monospace\"><span style=\"font-weight: bold\"> Total params: </span><span style=\"color: #00af00; text-decoration-color: #00af00\">53,018</span> (207.10 KB)\n",
       "</pre>\n"
      ],
      "text/plain": [
       "\u001b[1m Total params: \u001b[0m\u001b[38;5;34m53,018\u001b[0m (207.10 KB)\n"
      ]
     },
     "metadata": {},
     "output_type": "display_data"
    },
    {
     "data": {
      "text/html": [
       "<pre style=\"white-space:pre;overflow-x:auto;line-height:normal;font-family:Menlo,'DejaVu Sans Mono',consolas,'Courier New',monospace\"><span style=\"font-weight: bold\"> Trainable params: </span><span style=\"color: #00af00; text-decoration-color: #00af00\">53,018</span> (207.10 KB)\n",
       "</pre>\n"
      ],
      "text/plain": [
       "\u001b[1m Trainable params: \u001b[0m\u001b[38;5;34m53,018\u001b[0m (207.10 KB)\n"
      ]
     },
     "metadata": {},
     "output_type": "display_data"
    },
    {
     "data": {
      "text/html": [
       "<pre style=\"white-space:pre;overflow-x:auto;line-height:normal;font-family:Menlo,'DejaVu Sans Mono',consolas,'Courier New',monospace\"><span style=\"font-weight: bold\"> Non-trainable params: </span><span style=\"color: #00af00; text-decoration-color: #00af00\">0</span> (0.00 B)\n",
       "</pre>\n"
      ],
      "text/plain": [
       "\u001b[1m Non-trainable params: \u001b[0m\u001b[38;5;34m0\u001b[0m (0.00 B)\n"
      ]
     },
     "metadata": {},
     "output_type": "display_data"
    }
   ],
   "source": [
    "model.summary()"
   ]
  },
  {
   "cell_type": "code",
   "execution_count": 13,
   "id": "23fcbf79",
   "metadata": {
    "execution": {
     "iopub.execute_input": "2025-01-08T11:43:31.633197Z",
     "iopub.status.busy": "2025-01-08T11:43:31.632992Z",
     "iopub.status.idle": "2025-01-08T11:43:31.637186Z",
     "shell.execute_reply": "2025-01-08T11:43:31.636575Z"
    },
    "papermill": {
     "duration": 0.010776,
     "end_time": "2025-01-08T11:43:31.638278",
     "exception": false,
     "start_time": "2025-01-08T11:43:31.627502",
     "status": "completed"
    },
    "tags": []
   },
   "outputs": [
    {
     "data": {
      "text/plain": [
       "(60000, 28, 28)"
      ]
     },
     "execution_count": 13,
     "metadata": {},
     "output_type": "execute_result"
    }
   ],
   "source": [
    "x_train.shape"
   ]
  },
  {
   "cell_type": "code",
   "execution_count": 14,
   "id": "b66c8709",
   "metadata": {
    "execution": {
     "iopub.execute_input": "2025-01-08T11:43:31.649422Z",
     "iopub.status.busy": "2025-01-08T11:43:31.649169Z",
     "iopub.status.idle": "2025-01-08T11:43:31.662089Z",
     "shell.execute_reply": "2025-01-08T11:43:31.661495Z"
    },
    "papermill": {
     "duration": 0.01974,
     "end_time": "2025-01-08T11:43:31.663288",
     "exception": false,
     "start_time": "2025-01-08T11:43:31.643548",
     "status": "completed"
    },
    "tags": []
   },
   "outputs": [],
   "source": [
    "model.compile(optimizer=tf.optimizers.Adam(), loss= 'sparse_categorical_crossentropy', metrics = ['accuracy'])"
   ]
  },
  {
   "cell_type": "code",
   "execution_count": 15,
   "id": "8fffa78c",
   "metadata": {
    "execution": {
     "iopub.execute_input": "2025-01-08T11:43:31.674366Z",
     "iopub.status.busy": "2025-01-08T11:43:31.674132Z",
     "iopub.status.idle": "2025-01-08T11:44:03.602961Z",
     "shell.execute_reply": "2025-01-08T11:44:03.602251Z"
    },
    "papermill": {
     "duration": 31.935874,
     "end_time": "2025-01-08T11:44:03.604270",
     "exception": false,
     "start_time": "2025-01-08T11:43:31.668396",
     "status": "completed"
    },
    "tags": []
   },
   "outputs": [
    {
     "name": "stdout",
     "output_type": "stream",
     "text": [
      "Epoch 1/10\n",
      "\u001b[1m1875/1875\u001b[0m \u001b[32m━━━━━━━━━━━━━━━━━━━━\u001b[0m\u001b[37m\u001b[0m \u001b[1m6s\u001b[0m 2ms/step - accuracy: 0.8292 - loss: 0.5792 - val_accuracy: 0.9539 - val_loss: 0.1500\n",
      "Epoch 2/10\n",
      "\u001b[1m1875/1875\u001b[0m \u001b[32m━━━━━━━━━━━━━━━━━━━━\u001b[0m\u001b[37m\u001b[0m \u001b[1m3s\u001b[0m 1ms/step - accuracy: 0.9582 - loss: 0.1350 - val_accuracy: 0.9577 - val_loss: 0.1378\n",
      "Epoch 3/10\n",
      "\u001b[1m1875/1875\u001b[0m \u001b[32m━━━━━━━━━━━━━━━━━━━━\u001b[0m\u001b[37m\u001b[0m \u001b[1m3s\u001b[0m 1ms/step - accuracy: 0.9712 - loss: 0.0969 - val_accuracy: 0.9694 - val_loss: 0.1093\n",
      "Epoch 4/10\n",
      "\u001b[1m1875/1875\u001b[0m \u001b[32m━━━━━━━━━━━━━━━━━━━━\u001b[0m\u001b[37m\u001b[0m \u001b[1m3s\u001b[0m 1ms/step - accuracy: 0.9772 - loss: 0.0733 - val_accuracy: 0.9710 - val_loss: 0.0993\n",
      "Epoch 5/10\n",
      "\u001b[1m1875/1875\u001b[0m \u001b[32m━━━━━━━━━━━━━━━━━━━━\u001b[0m\u001b[37m\u001b[0m \u001b[1m3s\u001b[0m 1ms/step - accuracy: 0.9806 - loss: 0.0610 - val_accuracy: 0.9666 - val_loss: 0.1068\n",
      "Epoch 6/10\n",
      "\u001b[1m1875/1875\u001b[0m \u001b[32m━━━━━━━━━━━━━━━━━━━━\u001b[0m\u001b[37m\u001b[0m \u001b[1m3s\u001b[0m 1ms/step - accuracy: 0.9845 - loss: 0.0478 - val_accuracy: 0.9727 - val_loss: 0.0938\n",
      "Epoch 7/10\n",
      "\u001b[1m1875/1875\u001b[0m \u001b[32m━━━━━━━━━━━━━━━━━━━━\u001b[0m\u001b[37m\u001b[0m \u001b[1m3s\u001b[0m 1ms/step - accuracy: 0.9863 - loss: 0.0436 - val_accuracy: 0.9700 - val_loss: 0.1111\n",
      "Epoch 8/10\n",
      "\u001b[1m1875/1875\u001b[0m \u001b[32m━━━━━━━━━━━━━━━━━━━━\u001b[0m\u001b[37m\u001b[0m \u001b[1m3s\u001b[0m 2ms/step - accuracy: 0.9878 - loss: 0.0368 - val_accuracy: 0.9736 - val_loss: 0.1015\n",
      "Epoch 9/10\n",
      "\u001b[1m1875/1875\u001b[0m \u001b[32m━━━━━━━━━━━━━━━━━━━━\u001b[0m\u001b[37m\u001b[0m \u001b[1m3s\u001b[0m 1ms/step - accuracy: 0.9883 - loss: 0.0367 - val_accuracy: 0.9707 - val_loss: 0.1117\n",
      "Epoch 10/10\n",
      "\u001b[1m1875/1875\u001b[0m \u001b[32m━━━━━━━━━━━━━━━━━━━━\u001b[0m\u001b[37m\u001b[0m \u001b[1m3s\u001b[0m 1ms/step - accuracy: 0.9899 - loss: 0.0307 - val_accuracy: 0.9729 - val_loss: 0.1089\n",
      "CPU times: user 41.3 s, sys: 6.73 s, total: 48 s\n",
      "Wall time: 31.9 s\n"
     ]
    },
    {
     "data": {
      "text/plain": [
       "<keras.src.callbacks.history.History at 0x7b4ba06cc850>"
      ]
     },
     "execution_count": 15,
     "metadata": {},
     "output_type": "execute_result"
    }
   ],
   "source": [
    "%%time\n",
    "model.fit(x_train,y_train, epochs = 10, validation_data = (x_test,y_test))"
   ]
  },
  {
   "cell_type": "code",
   "execution_count": 16,
   "id": "6b47b2b6",
   "metadata": {
    "execution": {
     "iopub.execute_input": "2025-01-08T11:44:03.659754Z",
     "iopub.status.busy": "2025-01-08T11:44:03.659525Z",
     "iopub.status.idle": "2025-01-08T11:44:03.664011Z",
     "shell.execute_reply": "2025-01-08T11:44:03.663424Z"
    },
    "papermill": {
     "duration": 0.033074,
     "end_time": "2025-01-08T11:44:03.665175",
     "exception": false,
     "start_time": "2025-01-08T11:44:03.632101",
     "status": "completed"
    },
    "tags": []
   },
   "outputs": [
    {
     "data": {
      "text/plain": [
       "{'accuracy': [0.9094499945640564,\n",
       "  0.9607333540916443,\n",
       "  0.9716333150863647,\n",
       "  0.9766166806221008,\n",
       "  0.9800166487693787,\n",
       "  0.9832833409309387,\n",
       "  0.9853166937828064,\n",
       "  0.9868333339691162,\n",
       "  0.987766683101654,\n",
       "  0.9894499778747559],\n",
       " 'loss': [0.3111179769039154,\n",
       "  0.1283542513847351,\n",
       "  0.0949801579117775,\n",
       "  0.07580576092004776,\n",
       "  0.06290609389543533,\n",
       "  0.05365147069096565,\n",
       "  0.04614555090665817,\n",
       "  0.04051855951547623,\n",
       "  0.0381154902279377,\n",
       "  0.03172978758811951],\n",
       " 'val_accuracy': [0.9538999795913696,\n",
       "  0.9577000141143799,\n",
       "  0.9693999886512756,\n",
       "  0.9710000157356262,\n",
       "  0.9666000008583069,\n",
       "  0.9726999998092651,\n",
       "  0.9700000286102295,\n",
       "  0.9735999703407288,\n",
       "  0.9707000255584717,\n",
       "  0.9728999733924866],\n",
       " 'val_loss': [0.14995642006397247,\n",
       "  0.13777689635753632,\n",
       "  0.10933757573366165,\n",
       "  0.09925681352615356,\n",
       "  0.10677988082170486,\n",
       "  0.09377408772706985,\n",
       "  0.1110694482922554,\n",
       "  0.1014937311410904,\n",
       "  0.1117233857512474,\n",
       "  0.10885811597108841]}"
      ]
     },
     "execution_count": 16,
     "metadata": {},
     "output_type": "execute_result"
    }
   ],
   "source": [
    "g = model.history.history\n",
    "g"
   ]
  },
  {
   "cell_type": "code",
   "execution_count": 17,
   "id": "ad57b768",
   "metadata": {
    "execution": {
     "iopub.execute_input": "2025-01-08T11:44:03.721082Z",
     "iopub.status.busy": "2025-01-08T11:44:03.720874Z",
     "iopub.status.idle": "2025-01-08T11:44:03.940826Z",
     "shell.execute_reply": "2025-01-08T11:44:03.940021Z"
    },
    "papermill": {
     "duration": 0.248897,
     "end_time": "2025-01-08T11:44:03.942076",
     "exception": false,
     "start_time": "2025-01-08T11:44:03.693179",
     "status": "completed"
    },
    "tags": []
   },
   "outputs": [
    {
     "data": {
      "text/plain": [
       "[<matplotlib.lines.Line2D at 0x7b4b807bf490>]"
      ]
     },
     "execution_count": 17,
     "metadata": {},
     "output_type": "execute_result"
    },
    {
     "data": {
      "image/png": "[encoded data removed]",
      "text/plain": [
       "<Figure size 640x480 with 1 Axes>"
      ]
     },
     "metadata": {},
     "output_type": "display_data"
    }
   ],
   "source": [
    "plt.plot(g['accuracy'])\n",
    "plt.plot(g['val_accuracy'])"
   ]
  },
  {
   "cell_type": "code",
   "execution_count": null,
   "id": "4b80ccbe",
   "metadata": {
    "papermill": {
     "duration": 0.027481,
     "end_time": "2025-01-08T11:44:03.997581",
     "exception": false,
     "start_time": "2025-01-08T11:44:03.970100",
     "status": "completed"
    },
    "tags": []
   },
   "outputs": [],
   "source": []
  }
 ],
 "metadata": {
  "kaggle": {
   "accelerator": "gpu",
   "dataSources": [],
   "dockerImageVersionId": 30823,
   "isGpuEnabled": true,
   "isInternetEnabled": true,
   "language": "python",
   "sourceType": "notebook"
  },
  "kernelspec": {
   "display_name": "Python 3",
   "language": "python",
   "name": "python3"
  },
  "language_info": {
   "codemirror_mode": {
    "name": "ipython",
    "version": 3
   },
   "file_extension": ".py",
   "mimetype": "text/x-python",
   "name": "python",
   "nbconvert_exporter": "python",
   "pygments_lexer": "ipython3",
   "version": "3.10.12"
  },
  "papermill": {
   "default_parameters": {},
   "duration": 46.914066,
   "end_time": "2025-01-08T11:44:05.444889",
   "environment_variables": {},
   "exception": null,
   "input_path": "__notebook__.ipynb",
   "output_path": "__notebook__.ipynb",
   "parameters": {},
   "start_time": "2025-01-08T11:43:18.530823",
   "version": "2.6.0"
  }
 },
 "nbformat": 4,
 "nbformat_minor": 5
}
